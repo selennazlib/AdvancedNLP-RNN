{
  "cells": [
    {
      "cell_type": "code",
      "execution_count": 1,
      "metadata": {
        "id": "7UnaHE4k6saj"
      },
      "outputs": [],
      "source": [
        "import os\n",
        "import numpy as np\n",
        "import pandas as pd\n",
        "import matplotlib.pyplot as plt\n",
        "from keras.preprocessing.text import Tokenizer\n",
        "from keras_preprocessing.sequence import pad_sequences\n",
        "from keras.layers import Dense, Input, GlobalMaxPooling1D, Conv1D, MaxPooling1D, Embedding\n",
        "from keras.models import Model\n",
        "from sklearn.metrics import roc_auc_score"
      ]
    },
    {
      "cell_type": "code",
      "execution_count": 2,
      "metadata": {
        "id": "p73N1RQa7kxN"
      },
      "outputs": [],
      "source": [
        "MAX_SEQUENCE_LENGTH = 100\n",
        "MAX_VOCAB_SIZE = 20000\n",
        "EMBEDDING_DIM = 200\n",
        "VALIDATION_SPLIT = 0.2\n",
        "BATCH_SIZE = 128\n",
        "EPOCHS = 10"
      ]
    },
    {
      "cell_type": "code",
      "execution_count": 5,
      "metadata": {
        "colab": {
          "base_uri": "https://localhost:8080/"
        },
        "id": "tjWznSwbtWpW",
        "outputId": "09d2c42f-c84e-4be7-985a-d0169fbcc1ba"
      },
      "outputs": [
        {
          "output_type": "stream",
          "name": "stdout",
          "text": [
            "--2022-10-18 17:41:36--  http://nlp.stanford.edu/data/glove.6B.zip\n",
            "Resolving nlp.stanford.edu (nlp.stanford.edu)... 171.64.67.140\n",
            "Connecting to nlp.stanford.edu (nlp.stanford.edu)|171.64.67.140|:80... connected.\n",
            "HTTP request sent, awaiting response... 302 Found\n",
            "Location: https://nlp.stanford.edu/data/glove.6B.zip [following]\n",
            "--2022-10-18 17:41:37--  https://nlp.stanford.edu/data/glove.6B.zip\n",
            "Connecting to nlp.stanford.edu (nlp.stanford.edu)|171.64.67.140|:443... connected.\n",
            "HTTP request sent, awaiting response... 301 Moved Permanently\n",
            "Location: https://downloads.cs.stanford.edu/nlp/data/glove.6B.zip [following]\n",
            "--2022-10-18 17:41:37--  https://downloads.cs.stanford.edu/nlp/data/glove.6B.zip\n",
            "Resolving downloads.cs.stanford.edu (downloads.cs.stanford.edu)... 171.64.64.22\n",
            "Connecting to downloads.cs.stanford.edu (downloads.cs.stanford.edu)|171.64.64.22|:443... connected.\n",
            "HTTP request sent, awaiting response... 200 OK\n",
            "Length: 862182613 (822M) [application/zip]\n",
            "Saving to: ‘glove.6B.zip’\n",
            "\n",
            "glove.6B.zip        100%[===================>] 822.24M  4.97MB/s    in 2m 41s  \n",
            "\n",
            "2022-10-18 17:44:19 (5.10 MB/s) - ‘glove.6B.zip’ saved [862182613/862182613]\n",
            "\n"
          ]
        }
      ],
      "source": [
        "!wget http://nlp.stanford.edu/data/glove.6B.zip"
      ]
    },
    {
      "cell_type": "code",
      "execution_count": 8,
      "metadata": {
        "colab": {
          "base_uri": "https://localhost:8080/"
        },
        "id": "6IHU5pFztn8w",
        "outputId": "e43b3ef9-fee7-4e90-a1d6-6102a9ea5ba4"
      },
      "outputs": [
        {
          "output_type": "stream",
          "name": "stdout",
          "text": [
            "Archive:  glove.6B.zip\n",
            "  inflating: glove.6B.50d.txt        \n",
            "  inflating: glove.6B.100d.txt       \n",
            "  inflating: glove.6B.200d.txt       \n",
            "  inflating: glove.6B.300d.txt       \n"
          ]
        }
      ],
      "source": [
        "# unzip the data\n",
        "!unzip glove*.zip"
      ]
    },
    {
      "cell_type": "code",
      "execution_count": 9,
      "metadata": {
        "id": "TrLd61859fyU"
      },
      "outputs": [],
      "source": [
        "word2vec = {}\n",
        "with open(os.path.join('glove.6B.200d.txt')) as f:\n",
        "\n",
        "  for line in f:\n",
        "    values = line.split()\n",
        "    word = values[0]\n",
        "    vec = np.asarray(values[1:], dtype='float32')\n",
        "    word2vec[word] = vec\n"
      ]
    },
    {
      "cell_type": "code",
      "execution_count": 10,
      "metadata": {
        "colab": {
          "base_uri": "https://localhost:8080/"
        },
        "id": "gj07eL5Tuv9Y",
        "outputId": "4a480b2c-f2c4-4675-f010-557bd0f4f1d0"
      },
      "outputs": [
        {
          "output_type": "stream",
          "name": "stdout",
          "text": [
            "Found 400000 word vectors\n"
          ]
        }
      ],
      "source": [
        "print(f'Found {len(word2vec)} word vectors')"
      ]
    },
    {
      "cell_type": "code",
      "execution_count": 11,
      "metadata": {
        "colab": {
          "base_uri": "https://localhost:8080/"
        },
        "id": "0vJ7UjgVvAJv",
        "outputId": "778469cc-a069-48d2-8a56-e70b20a2866f"
      },
      "outputs": [
        {
          "output_type": "stream",
          "name": "stdout",
          "text": [
            "Max sequence length:  5000\n",
            "Min sequence length:  6\n",
            "Median sequence length:  205\n"
          ]
        }
      ],
      "source": [
        "train = pd.read_csv('train.csv')\n",
        "\n",
        "sentences = train['comment_text'].fillna('DUMMY_VALUE').values\n",
        "possible_labels = ['toxic', 'severe_toxic', 'obscene', 'threat', 'insult', 'identity_hate']\n",
        "targets = train[possible_labels].values\n",
        "\n",
        "print('Max sequence length: ', max(len(s) for s in sentences))\n",
        "print('Min sequence length: ', min(len(s) for s in sentences))\n",
        "\n",
        "s = sorted(len(s) for s in sentences)\n",
        "print('Median sequence length: ', s[len(s) // 2])"
      ]
    },
    {
      "cell_type": "code",
      "execution_count": 12,
      "metadata": {
        "id": "6BaDu-ZG-Mh9"
      },
      "outputs": [],
      "source": [
        "# convert the sentences into integers\n",
        "tokenizer = Tokenizer(num_words=MAX_VOCAB_SIZE)\n",
        "tokenizer.fit_on_texts(sentences)\n",
        "sequences = tokenizer.texts_to_sequences(sentences)"
      ]
    },
    {
      "cell_type": "code",
      "execution_count": 13,
      "metadata": {
        "colab": {
          "base_uri": "https://localhost:8080/"
        },
        "id": "gLHc3PAJ-7RG",
        "outputId": "0399d435-8005-40bc-b3ca-c25308255148"
      },
      "outputs": [
        {
          "output_type": "stream",
          "name": "stdout",
          "text": [
            "Found 210337 unique tokens\n"
          ]
        }
      ],
      "source": [
        "# integer mapping \n",
        "word2idx = tokenizer.word_index\n",
        "print(f'Found {len(word2idx)} unique tokens')"
      ]
    },
    {
      "cell_type": "code",
      "execution_count": 14,
      "metadata": {
        "colab": {
          "base_uri": "https://localhost:8080/"
        },
        "id": "PSRmx-IV_R5T",
        "outputId": "cf4c1719-49bd-4509-d6f2-e15e8dc56440"
      },
      "outputs": [
        {
          "output_type": "stream",
          "name": "stdout",
          "text": [
            "Shape of data tensor:  (159571, 100)\n"
          ]
        }
      ],
      "source": [
        "# pad sequences so that we get a N x T matrix\n",
        "data = pad_sequences(sequences, maxlen=MAX_SEQUENCE_LENGTH)\n",
        "print('Shape of data tensor: ', data.shape)"
      ]
    },
    {
      "cell_type": "code",
      "execution_count": 15,
      "metadata": {
        "id": "jEJHYaW9_jD7"
      },
      "outputs": [],
      "source": [
        "# prepare embedding matrix\n",
        "num_words = min(MAX_VOCAB_SIZE, len(word2idx) + 1)\n",
        "embedding_matrix = np.zeros((num_words, EMBEDDING_DIM))\n",
        "for word, i in word2idx.items():\n",
        "  if i < MAX_VOCAB_SIZE:\n",
        "    embedding_vector = word2vec.get(word)\n",
        "    if embedding_vector is not None:      \n",
        "      embedding_matrix[i] = embedding_vector"
      ]
    },
    {
      "cell_type": "code",
      "source": [
        "embedding_layer = Embedding(num_words, EMBEDDING_DIM, weights=[embedding_matrix], input_length=MAX_SEQUENCE_LENGTH, trainable=False)"
      ],
      "metadata": {
        "id": "FRxwzFuzIhDC"
      },
      "execution_count": 16,
      "outputs": []
    },
    {
      "cell_type": "code",
      "source": [
        "# train a 1D convnet with global maxpooling\n",
        "input_ = Input(shape=(MAX_SEQUENCE_LENGTH, ))\n",
        "x = embedding_layer(input_)\n",
        "x = Conv1D(128, 3, activation='relu')(x)\n",
        "x = MaxPooling1D(3)(x)\n",
        "x = Conv1D(128, 3, activation='relu')(x)\n",
        "x = MaxPooling1D(3)(x)\n",
        "x = Conv1D(128, 3, activation='relu')(x)\n",
        "x = GlobalMaxPooling1D()(x)\n",
        "x = Dense(128, activation='relu')(x)\n",
        "output = Dense(len(possible_labels), activation='sigmoid')(x)"
      ],
      "metadata": {
        "id": "aMWpvqnBKC0Q"
      },
      "execution_count": 19,
      "outputs": []
    },
    {
      "cell_type": "code",
      "source": [
        "model = Model(input_, output)\n",
        "model.compile(loss='binary_crossentropy', optimizer='rmsprop', metrics=['accuracy'])\n"
      ],
      "metadata": {
        "id": "SXAV6rHIO-Nm"
      },
      "execution_count": 20,
      "outputs": []
    },
    {
      "cell_type": "code",
      "source": [
        "history = model.fit(data, targets, batch_size=BATCH_SIZE, epochs=EPOCHS, validation_split=VALIDATION_SPLIT)"
      ],
      "metadata": {
        "colab": {
          "base_uri": "https://localhost:8080/"
        },
        "id": "dDYYKlTxQm6Z",
        "outputId": "b2b6df2d-ef2e-49ff-c90c-0cd3a1ea77f5"
      },
      "execution_count": 22,
      "outputs": [
        {
          "output_type": "stream",
          "name": "stdout",
          "text": [
            "Epoch 1/10\n",
            "998/998 [==============================] - 181s 182ms/step - loss: 0.0431 - accuracy: 0.9922 - val_loss: 0.1266 - val_accuracy: 0.9907\n",
            "Epoch 2/10\n",
            "998/998 [==============================] - 169s 169ms/step - loss: 0.0433 - accuracy: 0.9928 - val_loss: 0.1497 - val_accuracy: 0.9917\n",
            "Epoch 3/10\n",
            "998/998 [==============================] - 169s 169ms/step - loss: 0.0416 - accuracy: 0.9925 - val_loss: 0.1318 - val_accuracy: 0.9934\n",
            "Epoch 4/10\n",
            "998/998 [==============================] - 171s 171ms/step - loss: 0.0405 - accuracy: 0.9921 - val_loss: 0.1427 - val_accuracy: 0.9939\n",
            "Epoch 5/10\n",
            "998/998 [==============================] - 173s 174ms/step - loss: 0.0394 - accuracy: 0.9917 - val_loss: 0.1624 - val_accuracy: 0.9938\n",
            "Epoch 6/10\n",
            "998/998 [==============================] - 182s 182ms/step - loss: 0.0384 - accuracy: 0.9909 - val_loss: 0.1970 - val_accuracy: 0.9936\n",
            "Epoch 7/10\n",
            "998/998 [==============================] - 182s 183ms/step - loss: 0.0384 - accuracy: 0.9911 - val_loss: 0.1951 - val_accuracy: 0.9922\n",
            "Epoch 8/10\n",
            "998/998 [==============================] - 172s 173ms/step - loss: 0.0377 - accuracy: 0.9914 - val_loss: 0.2217 - val_accuracy: 0.9929\n",
            "Epoch 9/10\n",
            "998/998 [==============================] - 185s 186ms/step - loss: 0.0375 - accuracy: 0.9913 - val_loss: 0.3321 - val_accuracy: 0.9935\n",
            "Epoch 10/10\n",
            "998/998 [==============================] - 180s 180ms/step - loss: 0.0409 - accuracy: 0.9912 - val_loss: 0.3243 - val_accuracy: 0.9922\n"
          ]
        }
      ]
    },
    {
      "cell_type": "code",
      "source": [
        "plt.plot(history.history['accuracy'], label='acc')\n",
        "plt.plot(history.history['val_accuracy'], label='acc')\n",
        "plt.legend()\n",
        "plt.show()"
      ],
      "metadata": {
        "colab": {
          "base_uri": "https://localhost:8080/",
          "height": 268
        },
        "id": "ckmYAU0NQ6GZ",
        "outputId": "157b0ed8-d64d-4100-f8a4-09e294680cdd"
      },
      "execution_count": 23,
      "outputs": [
        {
          "output_type": "display_data",
          "data": {
            "text/plain": [
              "<Figure size 432x288 with 1 Axes>"
            ],
            "image/png": "[encoded data removed]"
          },
          "metadata": {
            "needs_background": "light"
          }
        }
      ]
    }
  ],
  "metadata": {
    "colab": {
      "provenance": []
    },
    "kernelspec": {
      "display_name": "Python 3",
      "name": "python3"
    },
    "language_info": {
      "name": "python"
    }
  },
  "nbformat": 4,
  "nbformat_minor": 0
}